{
 "cells": [
  {
   "cell_type": "markdown",
   "metadata": {},
   "source": [
    "# Introduction"
   ]
  },
  {
   "cell_type": "markdown",
   "metadata": {},
   "source": [
    "ipycolorbar is a widget library for visualising colormaps as color bars. Additionally, it allows for manually editing color maps via widgets. The color maps should be defined via ipyscales. Let's define two simple color maps first:"
   ]
  },
  {
   "cell_type": "code",
   "execution_count": 1,
   "metadata": {},
   "outputs": [],
   "source": [
    "import ipyscales"
   ]
  },
  {
   "cell_type": "code",
   "execution_count": 2,
   "metadata": {},
   "outputs": [],
   "source": [
    "cm = ipyscales.LinearScaleWidget(\n",
    "    range=('blue', 'green'),\n",
    "    domain=(1000, 5000)\n",
    ")\n",
    "cm_div = ipyscales.LinearScaleWidget(\n",
    "    range=('blue', 'white', 'red'),\n",
    "    domain=(-1, 0, 1)\n",
    ")"
   ]
  },
  {
   "cell_type": "markdown",
   "metadata": {},
   "source": [
    "Next, let us define a color bar for the first color map:"
   ]
  },
  {
   "cell_type": "code",
   "execution_count": 3,
   "metadata": {},
   "outputs": [],
   "source": [
    "import ipycolorbar"
   ]
  },
  {
   "cell_type": "code",
   "execution_count": 4,
   "metadata": {},
   "outputs": [],
   "source": [
    "colorbar = ipycolorbar.ColorBar(colormap=cm, length=300)\n",
    "assert colorbar.colormap is cm"
   ]
  },
  {
   "cell_type": "code",
   "execution_count": 5,
   "metadata": {},
   "outputs": [
    {
     "data": {
      "application/vnd.jupyter.widget-view+json": {
       "model_id": "7752d63960784a15afd7f72785a87d69",
       "version_major": 2,
       "version_minor": 0
      },
      "text/html": [
       "<p>Failed to display Jupyter Widget of type <code>ColorBar</code>.</p>\n",
       "<p>\n",
       "  If you're reading this message in the Jupyter Notebook or JupyterLab Notebook, it may mean\n",
       "  that the widgets JavaScript is still loading. If this message persists, it\n",
       "  likely means that the widgets JavaScript library is either not installed or\n",
       "  not enabled. See the <a href=\"https://ipywidgets.readthedocs.io/en/stable/user_install.html\">Jupyter\n",
       "  Widgets Documentation</a> for setup instructions.\n",
       "</p>\n",
       "<p>\n",
       "  If you're reading this message in another frontend (for example, a static\n",
       "  rendering on GitHub or <a href=\"https://nbviewer.jupyter.org/\">NBViewer</a>),\n",
       "  it may mean that your frontend doesn't currently support widgets.\n",
       "</p>\n"
      ],
      "text/plain": [
       "ColorBar(colormap=LinearScaleWidget(domain=(1000.0, 5000.0), range=('blue', 'green')), length=300)"
      ]
     },
     "metadata": {},
     "output_type": "display_data"
    }
   ],
   "source": [
    "colorbar"
   ]
  },
  {
   "cell_type": "markdown",
   "metadata": {},
   "source": [
    "The orientation of the color bar can be made horizontal as well:"
   ]
  },
  {
   "cell_type": "code",
   "execution_count": 6,
   "metadata": {},
   "outputs": [
    {
     "data": {
      "application/vnd.jupyter.widget-view+json": {
       "model_id": "6c453000430c49158f507eb69fd41951",
       "version_major": 2,
       "version_minor": 0
      },
      "text/html": [
       "<p>Failed to display Jupyter Widget of type <code>ColorBar</code>.</p>\n",
       "<p>\n",
       "  If you're reading this message in the Jupyter Notebook or JupyterLab Notebook, it may mean\n",
       "  that the widgets JavaScript is still loading. If this message persists, it\n",
       "  likely means that the widgets JavaScript library is either not installed or\n",
       "  not enabled. See the <a href=\"https://ipywidgets.readthedocs.io/en/stable/user_install.html\">Jupyter\n",
       "  Widgets Documentation</a> for setup instructions.\n",
       "</p>\n",
       "<p>\n",
       "  If you're reading this message in another frontend (for example, a static\n",
       "  rendering on GitHub or <a href=\"https://nbviewer.jupyter.org/\">NBViewer</a>),\n",
       "  it may mean that your frontend doesn't currently support widgets.\n",
       "</p>\n"
      ],
      "text/plain": [
       "ColorBar(colormap=LinearScaleWidget(domain=(-1.0, 0.0, 1.0), range=('blue', 'white', 'red')), length=300, orientation='horizontal')"
      ]
     },
     "metadata": {},
     "output_type": "display_data"
    }
   ],
   "source": [
    "ipycolorbar.ColorBar(colormap=cm_div, length=300, orientation='horizontal')"
   ]
  },
  {
   "cell_type": "markdown",
   "metadata": {},
   "source": [
    "The color map can include transparent colors, and the color bar also supports this:"
   ]
  },
  {
   "cell_type": "code",
   "execution_count": 7,
   "metadata": {},
   "outputs": [],
   "source": [
    "cm_div_transp = ipyscales.LinearScaleWidget(\n",
    "    range=('rgba(0, 0, 255, 0.5)', 'white', 'rgba(255, 0, 0, 0.5)'),\n",
    "    domain=(-1, 0, 1)\n",
    ")"
   ]
  },
  {
   "cell_type": "code",
   "execution_count": 8,
   "metadata": {},
   "outputs": [
    {
     "data": {
      "application/vnd.jupyter.widget-view+json": {
       "model_id": "1ad08ae60b694481ba4beea549b1b020",
       "version_major": 2,
       "version_minor": 0
      },
      "text/html": [
       "<p>Failed to display Jupyter Widget of type <code>ColorBar</code>.</p>\n",
       "<p>\n",
       "  If you're reading this message in the Jupyter Notebook or JupyterLab Notebook, it may mean\n",
       "  that the widgets JavaScript is still loading. If this message persists, it\n",
       "  likely means that the widgets JavaScript library is either not installed or\n",
       "  not enabled. See the <a href=\"https://ipywidgets.readthedocs.io/en/stable/user_install.html\">Jupyter\n",
       "  Widgets Documentation</a> for setup instructions.\n",
       "</p>\n",
       "<p>\n",
       "  If you're reading this message in another frontend (for example, a static\n",
       "  rendering on GitHub or <a href=\"https://nbviewer.jupyter.org/\">NBViewer</a>),\n",
       "  it may mean that your frontend doesn't currently support widgets.\n",
       "</p>\n"
      ],
      "text/plain": [
       "ColorBar(colormap=LinearScaleWidget(domain=(-1.0, 0.0, 1.0), range=('rgba(0, 0, 255, 0.5)', 'white', 'rgba(255, 0, 0, 0.5)')), length=200)"
      ]
     },
     "metadata": {},
     "output_type": "display_data"
    }
   ],
   "source": [
    "ipycolorbar.ColorBar(colormap=cm_div_transp, length=200)"
   ]
  },
  {
   "cell_type": "markdown",
   "metadata": {},
   "source": [
    "The editor `ColorMapEditor` can be used to manually edit the color map. The actions you can do are:\n",
    "- Change the color of a stop by double-clicking the corresponding handle.\n",
    "- Change the location of stops by dragging the handles."
   ]
  },
  {
   "cell_type": "code",
   "execution_count": 9,
   "metadata": {},
   "outputs": [
    {
     "data": {
      "application/vnd.jupyter.widget-view+json": {
       "model_id": "b6ff0376cb07426a984da62cdef073f6",
       "version_major": 2,
       "version_minor": 0
      },
      "text/html": [
       "<p>Failed to display Jupyter Widget of type <code>ColorMapEditor</code>.</p>\n",
       "<p>\n",
       "  If you're reading this message in the Jupyter Notebook or JupyterLab Notebook, it may mean\n",
       "  that the widgets JavaScript is still loading. If this message persists, it\n",
       "  likely means that the widgets JavaScript library is either not installed or\n",
       "  not enabled. See the <a href=\"https://ipywidgets.readthedocs.io/en/stable/user_install.html\">Jupyter\n",
       "  Widgets Documentation</a> for setup instructions.\n",
       "</p>\n",
       "<p>\n",
       "  If you're reading this message in another frontend (for example, a static\n",
       "  rendering on GitHub or <a href=\"https://nbviewer.jupyter.org/\">NBViewer</a>),\n",
       "  it may mean that your frontend doesn't currently support widgets.\n",
       "</p>\n"
      ],
      "text/plain": [
       "ColorMapEditor(colormap=LinearScaleWidget(domain=(-1.0, 0.0, 1.0), range=('rgba(0, 0, 255, 0.5)', 'white', 'rgba(255, 0, 0, 0.5)')), length=400, orientation='horizontal')"
      ]
     },
     "metadata": {},
     "output_type": "display_data"
    }
   ],
   "source": [
    "ipycolorbar.ColorMapEditor(\n",
    "    colormap=cm_div_transp, length=400, orientation='horizontal')"
   ]
  },
  {
   "cell_type": "markdown",
   "metadata": {},
   "source": [
    "Future features planned for the editor include:\n",
    "- Adding new stops.\n",
    "- Removing stops.\n",
    "- Modifying the stop location by input (especially useful if you want to change the outer bounds of the domain)."
   ]
  },
  {
   "cell_type": "code",
   "execution_count": null,
   "metadata": {},
   "outputs": [],
   "source": []
  }
 ],
 "metadata": {
  "kernelspec": {
   "display_name": "Python 3",
   "language": "python",
   "name": "python3"
  },
  "language_info": {
   "codemirror_mode": {
    "name": "ipython",
    "version": 3
   },
   "file_extension": ".py",
   "mimetype": "text/x-python",
   "name": "python",
   "nbconvert_exporter": "python",
   "pygments_lexer": "ipython3",
   "version": "3.6.4"
  },
  "widgets": {
   "application/vnd.jupyter.widget-state+json": {
    "state": {
     "052c2d711c46493c94864bfcdc3f9369": {
      "model_module": "@jupyter-widgets/base",
      "model_module_version": "1.0.0",
      "model_name": "LayoutModel",
      "state": {}
     },
     "1ad08ae60b694481ba4beea549b1b020": {
      "model_module": "jupyter-colorbar",
      "model_module_version": "1.0.0",
      "model_name": "ColorBarModel",
      "state": {
       "colormap": "IPY_MODEL_a734c38cd18340689e7921c5f88e3bb5",
       "layout": "IPY_MODEL_69227a8769554b8ebce6f65a44d08c1d",
       "length": 200
      }
     },
     "333c3e7b0c664d93812d29b69bb5fd58": {
      "model_module": "jupyter-scales",
      "model_module_version": "^1.0.0",
      "model_name": "LinearScaleModel",
      "state": {
       "_model_module": "jupyter-scales",
       "_model_module_version": "^1.0.0",
       "_view_module_version": "",
       "domain": [
        1000,
        5000
       ],
       "range": [
        "blue",
        "green"
       ]
      }
     },
     "69227a8769554b8ebce6f65a44d08c1d": {
      "model_module": "@jupyter-widgets/base",
      "model_module_version": "1.0.0",
      "model_name": "LayoutModel",
      "state": {}
     },
     "6c453000430c49158f507eb69fd41951": {
      "model_module": "jupyter-colorbar",
      "model_module_version": "1.0.0",
      "model_name": "ColorBarModel",
      "state": {
       "colormap": "IPY_MODEL_cea51d3afacd49719d2561951cd04b7e",
       "layout": "IPY_MODEL_88b64357a2e14f43bc31e5adad4d3e45",
       "length": 300,
       "orientation": "horizontal"
      }
     },
     "7752d63960784a15afd7f72785a87d69": {
      "model_module": "jupyter-colorbar",
      "model_module_version": "1.0.0",
      "model_name": "ColorBarModel",
      "state": {
       "colormap": "IPY_MODEL_333c3e7b0c664d93812d29b69bb5fd58",
       "layout": "IPY_MODEL_052c2d711c46493c94864bfcdc3f9369",
       "length": 300
      }
     },
     "88b64357a2e14f43bc31e5adad4d3e45": {
      "model_module": "@jupyter-widgets/base",
      "model_module_version": "1.0.0",
      "model_name": "LayoutModel",
      "state": {}
     },
     "a734c38cd18340689e7921c5f88e3bb5": {
      "model_module": "jupyter-scales",
      "model_module_version": "^1.0.0",
      "model_name": "LinearScaleModel",
      "state": {
       "_model_module": "jupyter-scales",
       "_model_module_version": "^1.0.0",
       "_view_module_version": "",
       "domain": [
        -1,
        0,
        1
       ],
       "range": [
        "rgba(0, 0, 255, 0.5)",
        "white",
        "rgba(255, 0, 0, 0.5)"
       ]
      }
     },
     "b6ff0376cb07426a984da62cdef073f6": {
      "model_module": "jupyter-colorbar",
      "model_module_version": "1.0.0",
      "model_name": "ColorMapEditorModel",
      "state": {
       "colormap": "IPY_MODEL_a734c38cd18340689e7921c5f88e3bb5",
       "layout": "IPY_MODEL_e3ee2492ecab4f14ac45521fbac361af",
       "length": 400,
       "orientation": "horizontal"
      }
     },
     "cea51d3afacd49719d2561951cd04b7e": {
      "model_module": "jupyter-scales",
      "model_module_version": "^1.0.0",
      "model_name": "LinearScaleModel",
      "state": {
       "_model_module": "jupyter-scales",
       "_model_module_version": "^1.0.0",
       "_view_module_version": "",
       "domain": [
        -1,
        0,
        1
       ],
       "range": [
        "blue",
        "white",
        "red"
       ]
      }
     },
     "e3ee2492ecab4f14ac45521fbac361af": {
      "model_module": "@jupyter-widgets/base",
      "model_module_version": "1.0.0",
      "model_name": "LayoutModel",
      "state": {}
     }
    },
    "version_major": 2,
    "version_minor": 0
   }
  }
 },
 "nbformat": 4,
 "nbformat_minor": 2
}
