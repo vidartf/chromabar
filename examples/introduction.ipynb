{
 "cells": [
  {
   "cell_type": "markdown",
   "metadata": {},
   "source": [
    "# Introduction"
   ]
  },
  {
   "cell_type": "code",
   "execution_count": 1,
   "metadata": {},
   "outputs": [],
   "source": [
    "import ipycolorbar\n",
    "import ipyscales"
   ]
  },
  {
   "cell_type": "code",
   "execution_count": 2,
   "metadata": {},
   "outputs": [],
   "source": [
    "cm = ipyscales.LinearScaleWidget(range=('blue', 'green'), domain=(1000, 5000))\n",
    "cm_div = ipyscales.LinearScaleWidget(range=('blue', 'white', 'red'), domain=(-1, 0, 1))"
   ]
  },
  {
   "cell_type": "code",
   "execution_count": 3,
   "metadata": {},
   "outputs": [],
   "source": [
    "colorbar = ipycolorbar.ColorBar(colormap=cm, length=300)"
   ]
  },
  {
   "cell_type": "code",
   "execution_count": 4,
   "metadata": {},
   "outputs": [],
   "source": [
    "assert colorbar.colormap is cm"
   ]
  },
  {
   "cell_type": "code",
   "execution_count": 5,
   "metadata": {},
   "outputs": [
    {
     "data": {
      "application/vnd.jupyter.widget-view+json": {
       "model_id": "33369cd430154bfd90f03283aeef6150",
       "version_major": 2,
       "version_minor": 0
      },
      "text/plain": [
       "ColorBar(colormap=LinearScaleWidget(domain=(1000.0, 5000.0), range=('blue', 'green')), length=300)"
      ]
     },
     "metadata": {},
     "output_type": "display_data"
    }
   ],
   "source": [
    "colorbar"
   ]
  },
  {
   "cell_type": "code",
   "execution_count": 6,
   "metadata": {},
   "outputs": [
    {
     "data": {
      "application/vnd.jupyter.widget-view+json": {
       "model_id": "974abfd8564440f0a499b62ac34bf8f6",
       "version_major": 2,
       "version_minor": 0
      },
      "text/plain": [
       "ColorBar(colormap=LinearScaleWidget(domain=(-1.0, 0.0, 1.0), range=('blue', 'white', 'red')), length=300, orie…"
      ]
     },
     "metadata": {},
     "output_type": "display_data"
    }
   ],
   "source": [
    "ipycolorbar.ColorBar(colormap=cm_div, length=300, orientation='horizontal')"
   ]
  }
 ],
 "metadata": {
  "kernelspec": {
   "display_name": "Python 3",
   "language": "python",
   "name": "python3"
  },
  "language_info": {
   "codemirror_mode": {
    "name": "ipython",
    "version": 3
   },
   "file_extension": ".py",
   "mimetype": "text/x-python",
   "name": "python",
   "nbconvert_exporter": "python",
   "pygments_lexer": "ipython3",
   "version": "3.6.6"
  },
  "widgets": {
   "application/vnd.jupyter.widget-state+json": {
    "state": {
     "33369cd430154bfd90f03283aeef6150": {
      "model_module": "jupyter-colorbar",
      "model_module_version": "1.0.0",
      "model_name": "ColorBarModel",
      "state": {
       "colormap": "IPY_MODEL_94279ffe5066426ca1c076bb9776a061",
       "layout": "IPY_MODEL_d0108b7dd166412c950fc0f21c1dd623",
       "length": 300
      }
     },
     "94279ffe5066426ca1c076bb9776a061": {
      "model_module": "jupyter-scales",
      "model_module_version": "^1.0.0",
      "model_name": "LinearScaleModel",
      "state": {
       "_model_module": "jupyter-scales",
       "_model_module_version": "^1.0.0",
       "_view_module_version": "",
       "domain": [
        1000,
        5000
       ],
       "range": [
        "blue",
        "green"
       ]
      }
     },
     "974abfd8564440f0a499b62ac34bf8f6": {
      "model_module": "jupyter-colorbar",
      "model_module_version": "1.0.0",
      "model_name": "ColorBarModel",
      "state": {
       "colormap": "IPY_MODEL_c3586283883f46688c8bb0279f2f89fb",
       "layout": "IPY_MODEL_d4b1bbb015c0486dbdcb928e658b4e8b",
       "length": 300,
       "orientation": "horizontal"
      }
     },
     "c3586283883f46688c8bb0279f2f89fb": {
      "model_module": "jupyter-scales",
      "model_module_version": "^1.0.0",
      "model_name": "LinearScaleModel",
      "state": {
       "_model_module": "jupyter-scales",
       "_model_module_version": "^1.0.0",
       "_view_module_version": "",
       "domain": [
        -1,
        0,
        1
       ],
       "range": [
        "blue",
        "white",
        "red"
       ]
      }
     },
     "d0108b7dd166412c950fc0f21c1dd623": {
      "model_module": "@jupyter-widgets/base",
      "model_module_version": "1.1.0",
      "model_name": "LayoutModel",
      "state": {}
     },
     "d4b1bbb015c0486dbdcb928e658b4e8b": {
      "model_module": "@jupyter-widgets/base",
      "model_module_version": "1.1.0",
      "model_name": "LayoutModel",
      "state": {}
     }
    },
    "version_major": 2,
    "version_minor": 0
   }
  }
 },
 "nbformat": 4,
 "nbformat_minor": 2
}
